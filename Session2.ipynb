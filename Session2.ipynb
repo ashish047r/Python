{
  "nbformat": 4,
  "nbformat_minor": 0,
  "metadata": {
    "colab": {
      "provenance": [],
      "authorship_tag": "ABX9TyNsxI4uUhHOHEA4nxUk+fYN",
      "include_colab_link": true
    },
    "kernelspec": {
      "name": "python3",
      "display_name": "Python 3"
    },
    "language_info": {
      "name": "python"
    }
  },
  "cells": [
    {
      "cell_type": "markdown",
      "metadata": {
        "id": "view-in-github",
        "colab_type": "text"
      },
      "source": [
        "<a href=\"https://colab.research.google.com/github/ashish047r/Python/blob/main/Session2.ipynb\" target=\"_parent\"><img src=\"https://colab.research.google.com/assets/colab-badge.svg\" alt=\"Open In Colab\"/></a>"
      ]
    },
    {
      "cell_type": "markdown",
      "source": [
        "#Find sum of 3 numbers entered by the user"
      ],
      "metadata": {
        "id": "mVg5e-ws5dqI"
      }
    },
    {
      "cell_type": "code",
      "execution_count": null,
      "metadata": {
        "colab": {
          "base_uri": "https://localhost:8080/"
        },
        "id": "NuE4l0S30ujb",
        "outputId": "fa25ef93-98e9-44c3-a049-d3b8bb0fdaf2"
      },
      "outputs": [
        {
          "output_type": "stream",
          "name": "stdout",
          "text": [
            "Enter the first number4\n",
            "Enter the second number5\n",
            "Enter the third number6\n",
            "15\n"
          ]
        }
      ],
      "source": [
        "a=int(input(\"Enter the first number\"))\n",
        "b=int(input(\"Enter the second number\"))\n",
        "c=int(input(\"Enter the third number\"))\n",
        "d=a+b+c\n",
        "print(d)"
      ]
    },
    {
      "cell_type": "markdown",
      "source": [
        "#Find sum of 3 digit numbers entered by the user"
      ],
      "metadata": {
        "id": "uNIxz_kY6X_9"
      }
    },
    {
      "cell_type": "code",
      "source": [],
      "metadata": {
        "id": "AemylB2Z6bdx"
      },
      "execution_count": null,
      "outputs": []
    },
    {
      "cell_type": "markdown",
      "source": [
        "#if else"
      ],
      "metadata": {
        "id": "szF-FkTGTi5t"
      }
    },
    {
      "cell_type": "code",
      "source": [
        "email = input('enter email')\n",
        "password = input('enter password')\n",
        "\n",
        "if email == 'nitish.campusx@gmail.com' and password == '1234':\n",
        " print('Welcome')\n",
        "else:\n",
        " print('Not correct')\n",
        "\n"
      ],
      "metadata": {
        "colab": {
          "base_uri": "https://localhost:8080/"
        },
        "id": "Mcit6UUvTkJB",
        "outputId": "80d657ba-b4a7-41f1-fb93-a145fff2097b"
      },
      "execution_count": null,
      "outputs": [
        {
          "output_type": "stream",
          "name": "stdout",
          "text": [
            "enter emailnitish.campusx@gmail.com\n",
            "enter password1234\n",
            "Welcome\n"
          ]
        }
      ]
    },
    {
      "cell_type": "code",
      "source": [
        "email = input('enter email')\n",
        "password = input('enter password')\n",
        "\n",
        "if email == 'nitish.campusx@gmail.com' and password == '1234':\n",
        " print( 'Welcome' )\n",
        "elif email == 'nitish.campusx@gmail.com' and password != '1234':\n",
        " print('Incorrect password')\n",
        " password = input('enter password again')\n",
        " if password == '1234':\n",
        "  print( 'Welcome, finally!')\n",
        " else:\n",
        "  print('beta tumse na ho paayega!')\n",
        "else:\n",
        " print('Not correct')\n",
        "\n"
      ],
      "metadata": {
        "colab": {
          "base_uri": "https://localhost:8080/"
        },
        "id": "DTCo1NadViuK",
        "outputId": "1cb0cca0-9c77-405c-e742-d161b5d11b34"
      },
      "execution_count": null,
      "outputs": [
        {
          "output_type": "stream",
          "name": "stdout",
          "text": [
            "enter emailnitish.campusx@gmail.com\n",
            "enter password345\n",
            "Incorrect password\n",
            "enter password again1234\n",
            "Welcome, finally!\n"
          ]
        }
      ]
    },
    {
      "cell_type": "markdown",
      "source": [
        "#Smallest no"
      ],
      "metadata": {
        "id": "I018La1-Xo3h"
      }
    },
    {
      "cell_type": "code",
      "source": [
        "a=int(input('enter the first no'))\n",
        "b=int(input('enter the second no'))\n",
        "c=int(input('enter the third no'))\n",
        "\n",
        "if a<b and a<c:\n",
        "  print('smallest is',a)\n",
        "elif b<c:\n",
        "  print('smallest is ',b)\n",
        "else:\n",
        "  print('smallest is',c)\n"
      ],
      "metadata": {
        "colab": {
          "base_uri": "https://localhost:8080/"
        },
        "id": "KgmH-ZBKXqZ5",
        "outputId": "511e2101-48d6-4613-9505-8864556fd283"
      },
      "execution_count": null,
      "outputs": [
        {
          "output_type": "stream",
          "name": "stdout",
          "text": [
            "enter the first no4\n",
            "enter the second no4\n",
            "enter the third no4\n",
            "smallest is 4\n"
          ]
        }
      ]
    },
    {
      "cell_type": "markdown",
      "source": [
        "#menu driven calc\n"
      ],
      "metadata": {
        "id": "Q5VazwjGZL3m"
      }
    },
    {
      "cell_type": "code",
      "source": [
        "fnum = int(input('enter the 1st number'))\n",
        "snum = int(input('enter the 2nd number'))\n",
        "op = input('Enter the operation')\n",
        "if op == '+':\n",
        " print(fnum + snum)\n",
        "elif op == '-':\n",
        " print(fnum - snum)\n",
        "elif op == '*':\n",
        " print(fnum * snum)\n",
        "else:\n",
        " print(fnum / snum)\n",
        "\n",
        "\n",
        "\n"
      ],
      "metadata": {
        "colab": {
          "base_uri": "https://localhost:8080/"
        },
        "id": "nvjLDIeDZNXC",
        "outputId": "64bdd9fc-407a-4cfc-824d-06051470f92d"
      },
      "execution_count": null,
      "outputs": [
        {
          "output_type": "stream",
          "name": "stdout",
          "text": [
            "enter the 1st number34\n",
            "enter the 2nd number23\n",
            "Enter the operation/\n",
            "1.4782608695652173\n"
          ]
        }
      ]
    },
    {
      "cell_type": "markdown",
      "source": [
        "#Multiplication table"
      ],
      "metadata": {
        "id": "l-yNY71NXI-q"
      }
    },
    {
      "cell_type": "code",
      "source": [
        "a = int(input('enter the number  '))\n",
        "\n",
        "i = 1\n",
        "\n",
        "while i<11:\n",
        "  print(a * i)\n",
        "  i +=1\n",
        "else:\n",
        "  print('Limit crossed')\n"
      ],
      "metadata": {
        "id": "P6105hW6aiEb"
      },
      "execution_count": null,
      "outputs": []
    },
    {
      "cell_type": "markdown",
      "source": [
        "#Guessing game"
      ],
      "metadata": {
        "id": "dfo30c6nZg28"
      }
    },
    {
      "cell_type": "code",
      "source": [
        "import random\n",
        "\n",
        "jackpot = random.randint(1,100)\n",
        "\n",
        "guess = int(input('enter the guessed number'))\n",
        "\n",
        "counter = 1\n",
        "\n",
        "while jackpot!=guess:\n",
        "  if guess<jackpot:\n",
        "    print('guess higher')\n",
        "  else:\n",
        "    print('guess lower')\n",
        "    guess = int(input('enter the guessed number'))\n",
        "    counter +=1\n",
        "\n",
        "\n",
        "else:\n",
        "  print('correct')\n",
        "  print('attempts made',counter)\n",
        "\n"
      ],
      "metadata": {
        "id": "t4zoLwmVZiUO"
      },
      "execution_count": null,
      "outputs": []
    },
    {
      "cell_type": "markdown",
      "source": [
        "#Program - The current population of a town is 10000. The population of the town is increasing at the rate of 10% per year. You have to write a program to find out the population at the end of each of the last 10 years.\n",
        "\n"
      ],
      "metadata": {
        "id": "j9TfDA3T4Ube"
      }
    },
    {
      "cell_type": "code",
      "source": [
        "curr_population = 10000\n",
        "for i in range(10,0,-1):\n",
        "  print(i,curr_population)\n",
        "  curr_population = curr_population/1.1"
      ],
      "metadata": {
        "colab": {
          "base_uri": "https://localhost:8080/"
        },
        "id": "m_SXa4074Ygx",
        "outputId": "64c8c9ef-3419-4f20-a9c2-a7d2a67bf2bd"
      },
      "execution_count": null,
      "outputs": [
        {
          "output_type": "stream",
          "name": "stdout",
          "text": [
            "10 10000\n",
            "9 9000.0\n",
            "8 8100.0\n",
            "7 7290.0\n",
            "6 6561.0\n",
            "5 5904.9\n",
            "4 5314.41\n",
            "3 4782.969\n",
            "2 4304.6721\n",
            "1 3874.20489\n"
          ]
        }
      ]
    },
    {
      "cell_type": "markdown",
      "source": [
        "#sequence sum"
      ],
      "metadata": {
        "id": "TusFj7GA7rnu"
      }
    },
    {
      "cell_type": "code",
      "source": [
        "n = int(input('enter value of n'))\n",
        "fact = 1\n",
        "result = 0\n",
        "for i in range(1,n+1):\n",
        "  fact = fact * i\n",
        "  result = result + i/fact\n",
        "\n",
        "print(result)\n",
        ""
      ],
      "metadata": {
        "colab": {
          "base_uri": "https://localhost:8080/"
        },
        "id": "rztsTpyP7sws",
        "outputId": "3174bab3-6331-4662-a49d-8caf73fed876"
      },
      "execution_count": null,
      "outputs": [
        {
          "output_type": "stream",
          "name": "stdout",
          "text": [
            "enter value of n3\n",
            "2.5\n"
          ]
        }
      ]
    },
    {
      "cell_type": "markdown",
      "source": [
        "#nested loop"
      ],
      "metadata": {
        "id": "d7fybvhi_ZHQ"
      }
    },
    {
      "cell_type": "code",
      "source": [
        "for i in range(1,5):\n",
        "  for j in range(1,5):\n",
        "    print(i,j)"
      ],
      "metadata": {
        "id": "FFqk7oLM_auZ"
      },
      "execution_count": null,
      "outputs": []
    },
    {
      "cell_type": "code",
      "source": [
        "rows = int(input('enter number of rows'))\n",
        "\n",
        "for i in range(1,rows+1):\n",
        "  for j in range(1,i+1):\n",
        "    print('*',end=' ')\n",
        "  print()\n",
        "\n",
        "\n",
        "\n",
        "\n"
      ],
      "metadata": {
        "colab": {
          "base_uri": "https://localhost:8080/"
        },
        "id": "2Zmyxi9oE4F5",
        "outputId": "f422b73f-8eaf-4a0d-d72c-e76f65f13211"
      },
      "execution_count": null,
      "outputs": [
        {
          "output_type": "stream",
          "name": "stdout",
          "text": [
            "enter number of rows5\n",
            "* \n",
            "* * \n",
            "* * * \n",
            "* * * * \n",
            "* * * * * \n"
          ]
        }
      ]
    },
    {
      "cell_type": "code",
      "source": [
        "rows = int(input('enter number of rows'))\n",
        "\n",
        "for i in range(1,rows+1):\n",
        " for j in range(1,i+1):\n",
        "   print(j,end='')\n",
        " for k in range(i-1,0,-1):\n",
        "   print(k,end='')\n",
        " print()\n",
        "\n"
      ],
      "metadata": {
        "colab": {
          "base_uri": "https://localhost:8080/"
        },
        "id": "Uka8kkNfHfrd",
        "outputId": "fbe47bd9-da89-462a-bd47-7d39de37b9c7"
      },
      "execution_count": null,
      "outputs": [
        {
          "output_type": "stream",
          "name": "stdout",
          "text": [
            "enter number of rows4\n",
            "1\n",
            "121\n",
            "12321\n",
            "1234321\n"
          ]
        }
      ]
    }
  ]
}